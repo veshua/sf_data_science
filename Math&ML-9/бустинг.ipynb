{
 "cells": [
  {
   "cell_type": "code",
   "execution_count": 1,
   "metadata": {},
   "outputs": [
    {
     "data": {
      "text/html": [
       "<div>\n",
       "<style scoped>\n",
       "    .dataframe tbody tr th:only-of-type {\n",
       "        vertical-align: middle;\n",
       "    }\n",
       "\n",
       "    .dataframe tbody tr th {\n",
       "        vertical-align: top;\n",
       "    }\n",
       "\n",
       "    .dataframe thead th {\n",
       "        text-align: right;\n",
       "    }\n",
       "</style>\n",
       "<table border=\"1\" class=\"dataframe\">\n",
       "  <thead>\n",
       "    <tr style=\"text-align: right;\">\n",
       "      <th></th>\n",
       "      <th>Unnamed: 0</th>\n",
       "      <th>id</th>\n",
       "      <th>Gender</th>\n",
       "      <th>Customer Type</th>\n",
       "      <th>Age</th>\n",
       "      <th>Type of Travel</th>\n",
       "      <th>Class</th>\n",
       "      <th>Flight Distance</th>\n",
       "      <th>Inflight wifi service</th>\n",
       "      <th>Departure/Arrival time convenient</th>\n",
       "      <th>...</th>\n",
       "      <th>Inflight entertainment</th>\n",
       "      <th>On-board service</th>\n",
       "      <th>Leg room service</th>\n",
       "      <th>Baggage handling</th>\n",
       "      <th>Checkin service</th>\n",
       "      <th>Inflight service</th>\n",
       "      <th>Cleanliness</th>\n",
       "      <th>Departure Delay in Minutes</th>\n",
       "      <th>Arrival Delay in Minutes</th>\n",
       "      <th>satisfaction</th>\n",
       "    </tr>\n",
       "  </thead>\n",
       "  <tbody>\n",
       "    <tr>\n",
       "      <th>0</th>\n",
       "      <td>0</td>\n",
       "      <td>70172</td>\n",
       "      <td>Male</td>\n",
       "      <td>Loyal Customer</td>\n",
       "      <td>13</td>\n",
       "      <td>Personal Travel</td>\n",
       "      <td>Eco Plus</td>\n",
       "      <td>460</td>\n",
       "      <td>3</td>\n",
       "      <td>4</td>\n",
       "      <td>...</td>\n",
       "      <td>5</td>\n",
       "      <td>4</td>\n",
       "      <td>3</td>\n",
       "      <td>4</td>\n",
       "      <td>4</td>\n",
       "      <td>5</td>\n",
       "      <td>5</td>\n",
       "      <td>25</td>\n",
       "      <td>18.0</td>\n",
       "      <td>neutral or dissatisfied</td>\n",
       "    </tr>\n",
       "    <tr>\n",
       "      <th>1</th>\n",
       "      <td>1</td>\n",
       "      <td>5047</td>\n",
       "      <td>Male</td>\n",
       "      <td>disloyal Customer</td>\n",
       "      <td>25</td>\n",
       "      <td>Business travel</td>\n",
       "      <td>Business</td>\n",
       "      <td>235</td>\n",
       "      <td>3</td>\n",
       "      <td>2</td>\n",
       "      <td>...</td>\n",
       "      <td>1</td>\n",
       "      <td>1</td>\n",
       "      <td>5</td>\n",
       "      <td>3</td>\n",
       "      <td>1</td>\n",
       "      <td>4</td>\n",
       "      <td>1</td>\n",
       "      <td>1</td>\n",
       "      <td>6.0</td>\n",
       "      <td>neutral or dissatisfied</td>\n",
       "    </tr>\n",
       "    <tr>\n",
       "      <th>2</th>\n",
       "      <td>2</td>\n",
       "      <td>110028</td>\n",
       "      <td>Female</td>\n",
       "      <td>Loyal Customer</td>\n",
       "      <td>26</td>\n",
       "      <td>Business travel</td>\n",
       "      <td>Business</td>\n",
       "      <td>1142</td>\n",
       "      <td>2</td>\n",
       "      <td>2</td>\n",
       "      <td>...</td>\n",
       "      <td>5</td>\n",
       "      <td>4</td>\n",
       "      <td>3</td>\n",
       "      <td>4</td>\n",
       "      <td>4</td>\n",
       "      <td>4</td>\n",
       "      <td>5</td>\n",
       "      <td>0</td>\n",
       "      <td>0.0</td>\n",
       "      <td>satisfied</td>\n",
       "    </tr>\n",
       "    <tr>\n",
       "      <th>3</th>\n",
       "      <td>3</td>\n",
       "      <td>24026</td>\n",
       "      <td>Female</td>\n",
       "      <td>Loyal Customer</td>\n",
       "      <td>25</td>\n",
       "      <td>Business travel</td>\n",
       "      <td>Business</td>\n",
       "      <td>562</td>\n",
       "      <td>2</td>\n",
       "      <td>5</td>\n",
       "      <td>...</td>\n",
       "      <td>2</td>\n",
       "      <td>2</td>\n",
       "      <td>5</td>\n",
       "      <td>3</td>\n",
       "      <td>1</td>\n",
       "      <td>4</td>\n",
       "      <td>2</td>\n",
       "      <td>11</td>\n",
       "      <td>9.0</td>\n",
       "      <td>neutral or dissatisfied</td>\n",
       "    </tr>\n",
       "    <tr>\n",
       "      <th>4</th>\n",
       "      <td>4</td>\n",
       "      <td>119299</td>\n",
       "      <td>Male</td>\n",
       "      <td>Loyal Customer</td>\n",
       "      <td>61</td>\n",
       "      <td>Business travel</td>\n",
       "      <td>Business</td>\n",
       "      <td>214</td>\n",
       "      <td>3</td>\n",
       "      <td>3</td>\n",
       "      <td>...</td>\n",
       "      <td>3</td>\n",
       "      <td>3</td>\n",
       "      <td>4</td>\n",
       "      <td>4</td>\n",
       "      <td>3</td>\n",
       "      <td>3</td>\n",
       "      <td>3</td>\n",
       "      <td>0</td>\n",
       "      <td>0.0</td>\n",
       "      <td>satisfied</td>\n",
       "    </tr>\n",
       "  </tbody>\n",
       "</table>\n",
       "<p>5 rows × 25 columns</p>\n",
       "</div>"
      ],
      "text/plain": [
       "   Unnamed: 0      id  Gender      Customer Type  Age   Type of Travel  \\\n",
       "0           0   70172    Male     Loyal Customer   13  Personal Travel   \n",
       "1           1    5047    Male  disloyal Customer   25  Business travel   \n",
       "2           2  110028  Female     Loyal Customer   26  Business travel   \n",
       "3           3   24026  Female     Loyal Customer   25  Business travel   \n",
       "4           4  119299    Male     Loyal Customer   61  Business travel   \n",
       "\n",
       "      Class  Flight Distance  Inflight wifi service  \\\n",
       "0  Eco Plus              460                      3   \n",
       "1  Business              235                      3   \n",
       "2  Business             1142                      2   \n",
       "3  Business              562                      2   \n",
       "4  Business              214                      3   \n",
       "\n",
       "   Departure/Arrival time convenient  ...  Inflight entertainment  \\\n",
       "0                                  4  ...                       5   \n",
       "1                                  2  ...                       1   \n",
       "2                                  2  ...                       5   \n",
       "3                                  5  ...                       2   \n",
       "4                                  3  ...                       3   \n",
       "\n",
       "   On-board service  Leg room service  Baggage handling  Checkin service  \\\n",
       "0                 4                 3                 4                4   \n",
       "1                 1                 5                 3                1   \n",
       "2                 4                 3                 4                4   \n",
       "3                 2                 5                 3                1   \n",
       "4                 3                 4                 4                3   \n",
       "\n",
       "   Inflight service  Cleanliness  Departure Delay in Minutes  \\\n",
       "0                 5            5                          25   \n",
       "1                 4            1                           1   \n",
       "2                 4            5                           0   \n",
       "3                 4            2                          11   \n",
       "4                 3            3                           0   \n",
       "\n",
       "   Arrival Delay in Minutes             satisfaction  \n",
       "0                      18.0  neutral or dissatisfied  \n",
       "1                       6.0  neutral or dissatisfied  \n",
       "2                       0.0                satisfied  \n",
       "3                       9.0  neutral or dissatisfied  \n",
       "4                       0.0                satisfied  \n",
       "\n",
       "[5 rows x 25 columns]"
      ]
     },
     "execution_count": 1,
     "metadata": {},
     "output_type": "execute_result"
    }
   ],
   "source": [
    "import pandas as pd\n",
    "df = pd.read_csv('airpass.csv')\n",
    "df.head()"
   ]
  },
  {
   "cell_type": "code",
   "execution_count": 2,
   "metadata": {},
   "outputs": [
    {
     "data": {
      "text/plain": [
       "310"
      ]
     },
     "execution_count": 2,
     "metadata": {},
     "output_type": "execute_result"
    }
   ],
   "source": [
    "df.isnull().sum().sum()"
   ]
  },
  {
   "cell_type": "code",
   "execution_count": 3,
   "metadata": {},
   "outputs": [
    {
     "data": {
      "text/plain": [
       "15.133392362180475"
      ]
     },
     "execution_count": 3,
     "metadata": {},
     "output_type": "execute_result"
    }
   ],
   "source": [
    "df['Arrival Delay in Minutes'] = df['Arrival Delay in Minutes'].fillna(df['Arrival Delay in Minutes'].median())\n",
    "df['Arrival Delay in Minutes'].mean()"
   ]
  },
  {
   "cell_type": "code",
   "execution_count": 4,
   "metadata": {},
   "outputs": [
    {
     "data": {
      "text/plain": [
       "Gender  satisfaction           \n",
       "Female  neutral or dissatisfied    29.058554\n",
       "        satisfied                  21.687327\n",
       "Male    neutral or dissatisfied    27.608177\n",
       "        satisfied                  21.645942\n",
       "Name: count, dtype: float64"
      ]
     },
     "execution_count": 4,
     "metadata": {},
     "output_type": "execute_result"
    }
   ],
   "source": [
    "df.groupby('Gender')['satisfaction'].value_counts()*100/df.shape[0]"
   ]
  },
  {
   "cell_type": "code",
   "execution_count": 5,
   "metadata": {},
   "outputs": [
    {
     "data": {
      "text/plain": [
       "Type of Travel   satisfaction           \n",
       "Business travel  satisfied                  40.177472\n",
       "                 neutral or dissatisfied    28.785225\n",
       "Personal Travel  neutral or dissatisfied    27.881506\n",
       "                 satisfied                   3.155798\n",
       "Name: count, dtype: float64"
      ]
     },
     "execution_count": 5,
     "metadata": {},
     "output_type": "execute_result"
    }
   ],
   "source": [
    "df.groupby('Type of Travel')['satisfaction'].value_counts()*100/df.shape[0]"
   ]
  },
  {
   "cell_type": "code",
   "execution_count": 6,
   "metadata": {},
   "outputs": [
    {
     "data": {
      "text/plain": [
       "Class     satisfaction           \n",
       "Business  satisfied                  33.184478\n",
       "          neutral or dissatisfied    14.614452\n",
       "Eco       neutral or dissatisfied    36.614567\n",
       "          satisfied                   8.374076\n",
       "Eco Plus  neutral or dissatisfied     5.437712\n",
       "          satisfied                   1.774715\n",
       "Name: count, dtype: float64"
      ]
     },
     "execution_count": 6,
     "metadata": {},
     "output_type": "execute_result"
    }
   ],
   "source": [
    "df.groupby('Class')['satisfaction'].value_counts()*100/df.shape[0]"
   ]
  },
  {
   "cell_type": "code",
   "execution_count": 7,
   "metadata": {},
   "outputs": [],
   "source": [
    "df['satisfaction'] = df['satisfaction'].map({'neutral or dissatisfied':0 , 'satisfied':1})\n",
    "df['Customer Type'] = df['Customer Type'].map({'Loyal Customer':1, 'disloyal Customer':0})\n",
    "df['Type of Travel'] = df['Type of Travel'].map({'Personal Travel':0, 'Business travel':1})\n",
    "df['Gender'] = df['Gender'].map({'Male': 0, 'Female': 1})"
   ]
  },
  {
   "cell_type": "code",
   "execution_count": 8,
   "metadata": {},
   "outputs": [
    {
     "data": {
      "text/plain": [
       "(103904, 27)"
      ]
     },
     "execution_count": 8,
     "metadata": {},
     "output_type": "execute_result"
    }
   ],
   "source": [
    "df=pd.get_dummies(df)\n",
    "df.shape"
   ]
  },
  {
   "cell_type": "code",
   "execution_count": 14,
   "metadata": {},
   "outputs": [],
   "source": [
    "df = df.drop('Unnamed: 0', axis = 1)"
   ]
  },
  {
   "cell_type": "code",
   "execution_count": 15,
   "metadata": {},
   "outputs": [
    {
     "data": {
      "text/html": [
       "<div>\n",
       "<style scoped>\n",
       "    .dataframe tbody tr th:only-of-type {\n",
       "        vertical-align: middle;\n",
       "    }\n",
       "\n",
       "    .dataframe tbody tr th {\n",
       "        vertical-align: top;\n",
       "    }\n",
       "\n",
       "    .dataframe thead th {\n",
       "        text-align: right;\n",
       "    }\n",
       "</style>\n",
       "<table border=\"1\" class=\"dataframe\">\n",
       "  <thead>\n",
       "    <tr style=\"text-align: right;\">\n",
       "      <th></th>\n",
       "      <th>id</th>\n",
       "      <th>Gender</th>\n",
       "      <th>Customer Type</th>\n",
       "      <th>Age</th>\n",
       "      <th>Type of Travel</th>\n",
       "      <th>Flight Distance</th>\n",
       "      <th>Inflight wifi service</th>\n",
       "      <th>Departure/Arrival time convenient</th>\n",
       "      <th>Ease of Online booking</th>\n",
       "      <th>Gate location</th>\n",
       "      <th>...</th>\n",
       "      <th>Baggage handling</th>\n",
       "      <th>Checkin service</th>\n",
       "      <th>Inflight service</th>\n",
       "      <th>Cleanliness</th>\n",
       "      <th>Departure Delay in Minutes</th>\n",
       "      <th>Arrival Delay in Minutes</th>\n",
       "      <th>satisfaction</th>\n",
       "      <th>Class_Business</th>\n",
       "      <th>Class_Eco</th>\n",
       "      <th>Class_Eco Plus</th>\n",
       "    </tr>\n",
       "  </thead>\n",
       "  <tbody>\n",
       "    <tr>\n",
       "      <th>0</th>\n",
       "      <td>70172</td>\n",
       "      <td>0</td>\n",
       "      <td>1</td>\n",
       "      <td>13</td>\n",
       "      <td>0</td>\n",
       "      <td>460</td>\n",
       "      <td>3</td>\n",
       "      <td>4</td>\n",
       "      <td>3</td>\n",
       "      <td>1</td>\n",
       "      <td>...</td>\n",
       "      <td>4</td>\n",
       "      <td>4</td>\n",
       "      <td>5</td>\n",
       "      <td>5</td>\n",
       "      <td>25</td>\n",
       "      <td>18.0</td>\n",
       "      <td>0</td>\n",
       "      <td>False</td>\n",
       "      <td>False</td>\n",
       "      <td>True</td>\n",
       "    </tr>\n",
       "    <tr>\n",
       "      <th>1</th>\n",
       "      <td>5047</td>\n",
       "      <td>0</td>\n",
       "      <td>0</td>\n",
       "      <td>25</td>\n",
       "      <td>1</td>\n",
       "      <td>235</td>\n",
       "      <td>3</td>\n",
       "      <td>2</td>\n",
       "      <td>3</td>\n",
       "      <td>3</td>\n",
       "      <td>...</td>\n",
       "      <td>3</td>\n",
       "      <td>1</td>\n",
       "      <td>4</td>\n",
       "      <td>1</td>\n",
       "      <td>1</td>\n",
       "      <td>6.0</td>\n",
       "      <td>0</td>\n",
       "      <td>True</td>\n",
       "      <td>False</td>\n",
       "      <td>False</td>\n",
       "    </tr>\n",
       "    <tr>\n",
       "      <th>2</th>\n",
       "      <td>110028</td>\n",
       "      <td>1</td>\n",
       "      <td>1</td>\n",
       "      <td>26</td>\n",
       "      <td>1</td>\n",
       "      <td>1142</td>\n",
       "      <td>2</td>\n",
       "      <td>2</td>\n",
       "      <td>2</td>\n",
       "      <td>2</td>\n",
       "      <td>...</td>\n",
       "      <td>4</td>\n",
       "      <td>4</td>\n",
       "      <td>4</td>\n",
       "      <td>5</td>\n",
       "      <td>0</td>\n",
       "      <td>0.0</td>\n",
       "      <td>1</td>\n",
       "      <td>True</td>\n",
       "      <td>False</td>\n",
       "      <td>False</td>\n",
       "    </tr>\n",
       "    <tr>\n",
       "      <th>3</th>\n",
       "      <td>24026</td>\n",
       "      <td>1</td>\n",
       "      <td>1</td>\n",
       "      <td>25</td>\n",
       "      <td>1</td>\n",
       "      <td>562</td>\n",
       "      <td>2</td>\n",
       "      <td>5</td>\n",
       "      <td>5</td>\n",
       "      <td>5</td>\n",
       "      <td>...</td>\n",
       "      <td>3</td>\n",
       "      <td>1</td>\n",
       "      <td>4</td>\n",
       "      <td>2</td>\n",
       "      <td>11</td>\n",
       "      <td>9.0</td>\n",
       "      <td>0</td>\n",
       "      <td>True</td>\n",
       "      <td>False</td>\n",
       "      <td>False</td>\n",
       "    </tr>\n",
       "    <tr>\n",
       "      <th>4</th>\n",
       "      <td>119299</td>\n",
       "      <td>0</td>\n",
       "      <td>1</td>\n",
       "      <td>61</td>\n",
       "      <td>1</td>\n",
       "      <td>214</td>\n",
       "      <td>3</td>\n",
       "      <td>3</td>\n",
       "      <td>3</td>\n",
       "      <td>3</td>\n",
       "      <td>...</td>\n",
       "      <td>4</td>\n",
       "      <td>3</td>\n",
       "      <td>3</td>\n",
       "      <td>3</td>\n",
       "      <td>0</td>\n",
       "      <td>0.0</td>\n",
       "      <td>1</td>\n",
       "      <td>True</td>\n",
       "      <td>False</td>\n",
       "      <td>False</td>\n",
       "    </tr>\n",
       "  </tbody>\n",
       "</table>\n",
       "<p>5 rows × 26 columns</p>\n",
       "</div>"
      ],
      "text/plain": [
       "       id  Gender  Customer Type  Age  Type of Travel  Flight Distance  \\\n",
       "0   70172       0              1   13               0              460   \n",
       "1    5047       0              0   25               1              235   \n",
       "2  110028       1              1   26               1             1142   \n",
       "3   24026       1              1   25               1              562   \n",
       "4  119299       0              1   61               1              214   \n",
       "\n",
       "   Inflight wifi service  Departure/Arrival time convenient  \\\n",
       "0                      3                                  4   \n",
       "1                      3                                  2   \n",
       "2                      2                                  2   \n",
       "3                      2                                  5   \n",
       "4                      3                                  3   \n",
       "\n",
       "   Ease of Online booking  Gate location  ...  Baggage handling  \\\n",
       "0                       3              1  ...                 4   \n",
       "1                       3              3  ...                 3   \n",
       "2                       2              2  ...                 4   \n",
       "3                       5              5  ...                 3   \n",
       "4                       3              3  ...                 4   \n",
       "\n",
       "   Checkin service  Inflight service  Cleanliness  Departure Delay in Minutes  \\\n",
       "0                4                 5            5                          25   \n",
       "1                1                 4            1                           1   \n",
       "2                4                 4            5                           0   \n",
       "3                1                 4            2                          11   \n",
       "4                3                 3            3                           0   \n",
       "\n",
       "   Arrival Delay in Minutes  satisfaction  Class_Business  Class_Eco  \\\n",
       "0                      18.0             0           False      False   \n",
       "1                       6.0             0            True      False   \n",
       "2                       0.0             1            True      False   \n",
       "3                       9.0             0            True      False   \n",
       "4                       0.0             1            True      False   \n",
       "\n",
       "   Class_Eco Plus  \n",
       "0            True  \n",
       "1           False  \n",
       "2           False  \n",
       "3           False  \n",
       "4           False  \n",
       "\n",
       "[5 rows x 26 columns]"
      ]
     },
     "execution_count": 15,
     "metadata": {},
     "output_type": "execute_result"
    }
   ],
   "source": [
    "df.head()"
   ]
  },
  {
   "cell_type": "code",
   "execution_count": 17,
   "metadata": {},
   "outputs": [
    {
     "data": {
      "text/plain": [
       "(20781,)"
      ]
     },
     "execution_count": 17,
     "metadata": {},
     "output_type": "execute_result"
    }
   ],
   "source": [
    "from sklearn.model_selection import train_test_split\n",
    "\n",
    "X = df.drop('satisfaction', axis = 1)\n",
    "y = df['satisfaction']  \n",
    "X_train, X_test, y_train, y_test = train_test_split(X, y, test_size = 0.2, random_state=26)\n",
    "y_test.shape"
   ]
  },
  {
   "cell_type": "code",
   "execution_count": 18,
   "metadata": {},
   "outputs": [
    {
     "data": {
      "text/plain": [
       "0.9408251379303"
      ]
     },
     "execution_count": 18,
     "metadata": {},
     "output_type": "execute_result"
    }
   ],
   "source": [
    "# для нормализации, стандартизации\n",
    "from sklearn import preprocessing\n",
    "scaler = preprocessing.StandardScaler()\n",
    "scaler.fit(X_train) \n",
    "X_train = scaler.transform(X_train) \n",
    "X_test = scaler.transform(X_test) \n",
    "X_test[0][0]"
   ]
  },
  {
   "cell_type": "code",
   "execution_count": 21,
   "metadata": {},
   "outputs": [
    {
     "data": {
      "text/plain": [
       "0.8547046934650797"
      ]
     },
     "execution_count": 21,
     "metadata": {},
     "output_type": "execute_result"
    }
   ],
   "source": [
    "from sklearn import metrics\n",
    "from sklearn import linear_model\n",
    "model_lr = linear_model.LogisticRegression()\n",
    "model_lr.fit(X_train, y_train)\n",
    "preds_test = model_lr.predict(X_test)\n",
    "metrics.f1_score(preds_test, y_test)"
   ]
  },
  {
   "cell_type": "code",
   "execution_count": 27,
   "metadata": {},
   "outputs": [
    {
     "name": "stdout",
     "output_type": "stream",
     "text": [
      "Fitting 3 folds for each of 24 candidates, totalling 72 fits\n",
      "[CV 1/3] END .learning_rate=1.0, n_estimators=1;, score=0.873 total time=   0.9s\n",
      "[CV 2/3] END .learning_rate=1.0, n_estimators=1;, score=0.870 total time=   0.4s\n",
      "[CV 3/3] END .learning_rate=1.0, n_estimators=1;, score=0.871 total time=   0.4s\n",
      "[CV 1/3] END .learning_rate=1.0, n_estimators=2;, score=0.880 total time=   0.5s\n",
      "[CV 2/3] END .learning_rate=1.0, n_estimators=2;, score=0.878 total time=   0.5s\n",
      "[CV 3/3] END .learning_rate=1.0, n_estimators=2;, score=0.875 total time=   0.5s\n",
      "[CV 1/3] END .learning_rate=1.0, n_estimators=4;, score=0.901 total time=   1.0s\n",
      "[CV 2/3] END .learning_rate=1.0, n_estimators=4;, score=0.896 total time=   0.9s\n",
      "[CV 3/3] END .learning_rate=1.0, n_estimators=4;, score=0.897 total time=   1.2s\n",
      "[CV 1/3] END .learning_rate=1.0, n_estimators=8;, score=0.920 total time=   1.7s\n",
      "[CV 2/3] END .learning_rate=1.0, n_estimators=8;, score=0.920 total time=   1.8s\n",
      "[CV 3/3] END .learning_rate=1.0, n_estimators=8;, score=0.919 total time=   1.7s\n",
      "[CV 1/3] END learning_rate=1.0, n_estimators=16;, score=0.935 total time=   4.1s\n",
      "[CV 2/3] END learning_rate=1.0, n_estimators=16;, score=0.938 total time=   3.8s\n",
      "[CV 3/3] END learning_rate=1.0, n_estimators=16;, score=0.933 total time=   3.6s\n",
      "[CV 1/3] END learning_rate=1.0, n_estimators=32;, score=0.943 total time=   7.1s\n",
      "[CV 2/3] END learning_rate=1.0, n_estimators=32;, score=0.945 total time=   7.7s\n",
      "[CV 3/3] END learning_rate=1.0, n_estimators=32;, score=0.944 total time=   7.3s\n",
      "[CV 1/3] END learning_rate=1.0, n_estimators=64;, score=0.947 total time=  21.1s\n",
      "[CV 2/3] END learning_rate=1.0, n_estimators=64;, score=0.947 total time=  19.4s\n",
      "[CV 3/3] END learning_rate=1.0, n_estimators=64;, score=0.948 total time=  17.2s\n",
      "[CV 1/3] END learning_rate=1.0, n_estimators=128;, score=0.949 total time=  29.2s\n",
      "[CV 2/3] END learning_rate=1.0, n_estimators=128;, score=0.949 total time=  28.2s\n",
      "[CV 3/3] END learning_rate=1.0, n_estimators=128;, score=0.949 total time=  30.4s\n",
      "[CV 1/3] END .learning_rate=0.1, n_estimators=1;, score=0.000 total time=   0.4s\n",
      "[CV 2/3] END .learning_rate=0.1, n_estimators=1;, score=0.000 total time=   0.3s\n",
      "[CV 3/3] END .learning_rate=0.1, n_estimators=1;, score=0.000 total time=   0.3s\n",
      "[CV 1/3] END .learning_rate=0.1, n_estimators=2;, score=0.765 total time=   0.5s\n",
      "[CV 2/3] END .learning_rate=0.1, n_estimators=2;, score=0.802 total time=   0.4s\n",
      "[CV 3/3] END .learning_rate=0.1, n_estimators=2;, score=0.794 total time=   0.5s\n",
      "[CV 1/3] END .learning_rate=0.1, n_estimators=4;, score=0.880 total time=   0.8s\n",
      "[CV 2/3] END .learning_rate=0.1, n_estimators=4;, score=0.880 total time=   0.9s\n",
      "[CV 3/3] END .learning_rate=0.1, n_estimators=4;, score=0.878 total time=   0.8s\n",
      "[CV 1/3] END .learning_rate=0.1, n_estimators=8;, score=0.881 total time=   1.7s\n",
      "[CV 2/3] END .learning_rate=0.1, n_estimators=8;, score=0.878 total time=   1.6s\n",
      "[CV 3/3] END .learning_rate=0.1, n_estimators=8;, score=0.881 total time=   1.7s\n",
      "[CV 1/3] END learning_rate=0.1, n_estimators=16;, score=0.886 total time=   3.5s\n",
      "[CV 2/3] END learning_rate=0.1, n_estimators=16;, score=0.887 total time=   4.6s\n",
      "[CV 3/3] END learning_rate=0.1, n_estimators=16;, score=0.889 total time=   6.4s\n",
      "[CV 1/3] END learning_rate=0.1, n_estimators=32;, score=0.914 total time=   9.5s\n",
      "[CV 2/3] END learning_rate=0.1, n_estimators=32;, score=0.919 total time=   9.8s\n",
      "[CV 3/3] END learning_rate=0.1, n_estimators=32;, score=0.910 total time=   7.6s\n",
      "[CV 1/3] END learning_rate=0.1, n_estimators=64;, score=0.928 total time=  14.9s\n",
      "[CV 2/3] END learning_rate=0.1, n_estimators=64;, score=0.929 total time=  17.8s\n",
      "[CV 3/3] END learning_rate=0.1, n_estimators=64;, score=0.929 total time=  17.4s\n",
      "[CV 1/3] END learning_rate=0.1, n_estimators=128;, score=0.939 total time=  30.2s\n",
      "[CV 2/3] END learning_rate=0.1, n_estimators=128;, score=0.938 total time=  25.0s\n",
      "[CV 3/3] END learning_rate=0.1, n_estimators=128;, score=0.938 total time=  25.9s\n",
      "[CV 1/3] END learning_rate=0.010000000000000002, n_estimators=1;, score=0.000 total time=   0.5s\n",
      "[CV 2/3] END learning_rate=0.010000000000000002, n_estimators=1;, score=0.000 total time=   0.4s\n",
      "[CV 3/3] END learning_rate=0.010000000000000002, n_estimators=1;, score=0.000 total time=   0.3s\n",
      "[CV 1/3] END learning_rate=0.010000000000000002, n_estimators=2;, score=0.000 total time=   0.6s\n",
      "[CV 2/3] END learning_rate=0.010000000000000002, n_estimators=2;, score=0.000 total time=   0.5s\n",
      "[CV 3/3] END learning_rate=0.010000000000000002, n_estimators=2;, score=0.000 total time=   0.5s\n",
      "[CV 1/3] END learning_rate=0.010000000000000002, n_estimators=4;, score=0.000 total time=   1.0s\n",
      "[CV 2/3] END learning_rate=0.010000000000000002, n_estimators=4;, score=0.000 total time=   1.1s\n",
      "[CV 3/3] END learning_rate=0.010000000000000002, n_estimators=4;, score=0.000 total time=   1.0s\n",
      "[CV 1/3] END learning_rate=0.010000000000000002, n_estimators=8;, score=0.000 total time=   1.9s\n",
      "[CV 2/3] END learning_rate=0.010000000000000002, n_estimators=8;, score=0.000 total time=   1.8s\n",
      "[CV 3/3] END learning_rate=0.010000000000000002, n_estimators=8;, score=0.000 total time=   1.8s\n",
      "[CV 1/3] END learning_rate=0.010000000000000002, n_estimators=16;, score=0.765 total time=   3.8s\n",
      "[CV 2/3] END learning_rate=0.010000000000000002, n_estimators=16;, score=0.802 total time=   3.5s\n",
      "[CV 3/3] END learning_rate=0.010000000000000002, n_estimators=16;, score=0.757 total time=   3.4s\n",
      "[CV 1/3] END learning_rate=0.010000000000000002, n_estimators=32;, score=0.878 total time=   6.9s\n",
      "[CV 2/3] END learning_rate=0.010000000000000002, n_estimators=32;, score=0.860 total time=   7.3s\n",
      "[CV 3/3] END learning_rate=0.010000000000000002, n_estimators=32;, score=0.858 total time=   7.5s\n",
      "[CV 1/3] END learning_rate=0.010000000000000002, n_estimators=64;, score=0.881 total time=  13.0s\n",
      "[CV 2/3] END learning_rate=0.010000000000000002, n_estimators=64;, score=0.877 total time=  12.9s\n",
      "[CV 3/3] END learning_rate=0.010000000000000002, n_estimators=64;, score=0.877 total time=  12.4s\n",
      "[CV 1/3] END learning_rate=0.010000000000000002, n_estimators=128;, score=0.886 total time=  25.3s\n",
      "[CV 2/3] END learning_rate=0.010000000000000002, n_estimators=128;, score=0.886 total time=  24.3s\n",
      "[CV 3/3] END learning_rate=0.010000000000000002, n_estimators=128;, score=0.885 total time=  24.1s\n",
      "Лучшие гиперпараметры: {'learning_rate': 1.0, 'n_estimators': 128}\n",
      "Лучшее значение метрики: 0.9491538177771582\n"
     ]
    }
   ],
   "source": [
    "from sklearn.ensemble import GradientBoostingClassifier\n",
    "import numpy as np\n",
    "from sklearn.model_selection import GridSearchCV\n",
    "from sklearn.metrics import make_scorer\n",
    "model_for_gs = GradientBoostingClassifier()\n",
    "params = {\"n_estimators\":2**np.arange(8), \"learning_rate\":0.1**np.arange(3)}\n",
    "gs = GridSearchCV(model_for_gs, \n",
    "                  params, \n",
    "                  cv=3, \n",
    "                  scoring=make_scorer(metrics.f1_score),\n",
    "                  verbose=5)\n",
    " \n",
    "gs.fit(X_train, y_train)\n",
    " \n",
    "print(\"Лучшие гиперпараметры:\", gs.best_params_)\n",
    "print(\"Лучшее значение метрики:\", gs.best_score_)"
   ]
  },
  {
   "cell_type": "code",
   "execution_count": 30,
   "metadata": {},
   "outputs": [
    {
     "name": "stdout",
     "output_type": "stream",
     "text": [
      "Collecting catboost\n",
      "  Downloading catboost-1.2.7.tar.gz (71.5 MB)\n",
      "\u001b[2K     \u001b[90m━━━━━━━━━━━━━━━━━━━━━━━━━━━━━━━━━━━━━━━━\u001b[0m \u001b[32m71.5/71.5 MB\u001b[0m \u001b[31m1.2 MB/s\u001b[0m eta \u001b[36m0:00:00\u001b[0m00:01\u001b[0m00:02\u001b[0mm\n",
      "\u001b[?25h  Installing build dependencies ... \u001b[?25ldone\n",
      "\u001b[?25h  Getting requirements to build wheel ... \u001b[?25ldone\n",
      "\u001b[?25h  Preparing metadata (pyproject.toml) ... \u001b[?25ldone\n",
      "\u001b[?25h\u001b[33mWARNING: Retrying (Retry(total=4, connect=None, read=None, redirect=None, status=None)) after connection broken by 'ReadTimeoutError(\"HTTPSConnectionPool(host='pypi.org', port=443): Read timed out. (read timeout=15)\")': /simple/graphviz/\u001b[0m\u001b[33m\n",
      "\u001b[0mCollecting graphviz (from catboost)\n",
      "  Downloading graphviz-0.20.3-py3-none-any.whl.metadata (12 kB)\n",
      "Requirement already satisfied: matplotlib in /Library/Frameworks/Python.framework/Versions/3.9/lib/python3.9/site-packages (from catboost) (3.7.3)\n",
      "Requirement already satisfied: numpy<2.0,>=1.16.0 in /Library/Frameworks/Python.framework/Versions/3.9/lib/python3.9/site-packages (from catboost) (1.26.4)\n",
      "Requirement already satisfied: pandas>=0.24 in /Library/Frameworks/Python.framework/Versions/3.9/lib/python3.9/site-packages (from catboost) (2.2.3)\n",
      "Requirement already satisfied: scipy in /Library/Frameworks/Python.framework/Versions/3.9/lib/python3.9/site-packages (from catboost) (1.13.1)\n",
      "Requirement already satisfied: plotly in /Library/Frameworks/Python.framework/Versions/3.9/lib/python3.9/site-packages (from catboost) (5.17.0)\n",
      "Requirement already satisfied: six in /Users/veshua/Library/Python/3.9/lib/python/site-packages (from catboost) (1.16.0)\n",
      "Requirement already satisfied: python-dateutil>=2.8.2 in /Users/veshua/Library/Python/3.9/lib/python/site-packages (from pandas>=0.24->catboost) (2.8.2)\n",
      "Requirement already satisfied: pytz>=2020.1 in /Library/Frameworks/Python.framework/Versions/3.9/lib/python3.9/site-packages (from pandas>=0.24->catboost) (2023.3.post1)\n",
      "Requirement already satisfied: tzdata>=2022.7 in /Library/Frameworks/Python.framework/Versions/3.9/lib/python3.9/site-packages (from pandas>=0.24->catboost) (2023.3)\n",
      "Requirement already satisfied: contourpy>=1.0.1 in /Library/Frameworks/Python.framework/Versions/3.9/lib/python3.9/site-packages (from matplotlib->catboost) (1.1.1)\n",
      "Requirement already satisfied: cycler>=0.10 in /Library/Frameworks/Python.framework/Versions/3.9/lib/python3.9/site-packages (from matplotlib->catboost) (0.12.1)\n",
      "Requirement already satisfied: fonttools>=4.22.0 in /Library/Frameworks/Python.framework/Versions/3.9/lib/python3.9/site-packages (from matplotlib->catboost) (4.43.1)\n",
      "Requirement already satisfied: kiwisolver>=1.0.1 in /Library/Frameworks/Python.framework/Versions/3.9/lib/python3.9/site-packages (from matplotlib->catboost) (1.4.5)\n",
      "Requirement already satisfied: packaging>=20.0 in /Users/veshua/Library/Python/3.9/lib/python/site-packages (from matplotlib->catboost) (23.2)\n",
      "Requirement already satisfied: pillow>=6.2.0 in /Library/Frameworks/Python.framework/Versions/3.9/lib/python3.9/site-packages (from matplotlib->catboost) (10.1.0)\n",
      "Requirement already satisfied: pyparsing>=2.3.1 in /Library/Frameworks/Python.framework/Versions/3.9/lib/python3.9/site-packages (from matplotlib->catboost) (3.1.1)\n",
      "Requirement already satisfied: importlib-resources>=3.2.0 in /Library/Frameworks/Python.framework/Versions/3.9/lib/python3.9/site-packages (from matplotlib->catboost) (6.1.0)\n",
      "Requirement already satisfied: tenacity>=6.2.0 in /Library/Frameworks/Python.framework/Versions/3.9/lib/python3.9/site-packages (from plotly->catboost) (8.2.3)\n",
      "Requirement already satisfied: zipp>=3.1.0 in /Users/veshua/Library/Python/3.9/lib/python/site-packages (from importlib-resources>=3.2.0->matplotlib->catboost) (3.17.0)\n",
      "Downloading graphviz-0.20.3-py3-none-any.whl (47 kB)\n",
      "\u001b[2K   \u001b[90m━━━━━━━━━━━━━━━━━━━━━━━━━━━━━━━━━━━━━━━━\u001b[0m \u001b[32m47.1/47.1 kB\u001b[0m \u001b[31m239.8 kB/s\u001b[0m eta \u001b[36m0:00:00\u001b[0m \u001b[36m0:00:01\u001b[0m\n",
      "\u001b[?25hBuilding wheels for collected packages: catboost\n",
      "  Building wheel for catboost (pyproject.toml) ... \u001b[?25lerror\n",
      "  \u001b[1;31merror\u001b[0m: \u001b[1msubprocess-exited-with-error\u001b[0m\n",
      "  \n",
      "  \u001b[31m×\u001b[0m \u001b[32mBuilding wheel for catboost \u001b[0m\u001b[1;32m(\u001b[0m\u001b[32mpyproject.toml\u001b[0m\u001b[1;32m)\u001b[0m did not run successfully.\n",
      "  \u001b[31m│\u001b[0m exit code: \u001b[1;36m1\u001b[0m\n",
      "  \u001b[31m╰─>\u001b[0m \u001b[31m[38 lines of output]\u001b[0m\n",
      "  \u001b[31m   \u001b[0m running bdist_wheel\n",
      "  \u001b[31m   \u001b[0m running build\n",
      "  \u001b[31m   \u001b[0m running build_py\n",
      "  \u001b[31m   \u001b[0m creating build/lib.macosx-10.9-universal2-cpython-39/catboost\n",
      "  \u001b[31m   \u001b[0m copying catboost/monoforest.py -> build/lib.macosx-10.9-universal2-cpython-39/catboost\n",
      "  \u001b[31m   \u001b[0m copying catboost/plot_helpers.py -> build/lib.macosx-10.9-universal2-cpython-39/catboost\n",
      "  \u001b[31m   \u001b[0m copying catboost/metrics.py -> build/lib.macosx-10.9-universal2-cpython-39/catboost\n",
      "  \u001b[31m   \u001b[0m copying catboost/carry.py -> build/lib.macosx-10.9-universal2-cpython-39/catboost\n",
      "  \u001b[31m   \u001b[0m copying catboost/version.py -> build/lib.macosx-10.9-universal2-cpython-39/catboost\n",
      "  \u001b[31m   \u001b[0m copying catboost/text_processing.py -> build/lib.macosx-10.9-universal2-cpython-39/catboost\n",
      "  \u001b[31m   \u001b[0m copying catboost/datasets.py -> build/lib.macosx-10.9-universal2-cpython-39/catboost\n",
      "  \u001b[31m   \u001b[0m copying catboost/__init__.py -> build/lib.macosx-10.9-universal2-cpython-39/catboost\n",
      "  \u001b[31m   \u001b[0m copying catboost/core.py -> build/lib.macosx-10.9-universal2-cpython-39/catboost\n",
      "  \u001b[31m   \u001b[0m copying catboost/utils.py -> build/lib.macosx-10.9-universal2-cpython-39/catboost\n",
      "  \u001b[31m   \u001b[0m copying catboost/dev_utils.py -> build/lib.macosx-10.9-universal2-cpython-39/catboost\n",
      "  \u001b[31m   \u001b[0m creating build/lib.macosx-10.9-universal2-cpython-39/catboost/widget\n",
      "  \u001b[31m   \u001b[0m copying catboost/widget/__init__.py -> build/lib.macosx-10.9-universal2-cpython-39/catboost/widget\n",
      "  \u001b[31m   \u001b[0m copying catboost/widget/metrics_plotter.py -> build/lib.macosx-10.9-universal2-cpython-39/catboost/widget\n",
      "  \u001b[31m   \u001b[0m copying catboost/widget/ipythonwidget.py -> build/lib.macosx-10.9-universal2-cpython-39/catboost/widget\n",
      "  \u001b[31m   \u001b[0m copying catboost/widget/callbacks.py -> build/lib.macosx-10.9-universal2-cpython-39/catboost/widget\n",
      "  \u001b[31m   \u001b[0m creating build/lib.macosx-10.9-universal2-cpython-39/catboost/eval\n",
      "  \u001b[31m   \u001b[0m copying catboost/eval/catboost_evaluation.py -> build/lib.macosx-10.9-universal2-cpython-39/catboost/eval\n",
      "  \u001b[31m   \u001b[0m copying catboost/eval/_fold_model.py -> build/lib.macosx-10.9-universal2-cpython-39/catboost/eval\n",
      "  \u001b[31m   \u001b[0m copying catboost/eval/_readers.py -> build/lib.macosx-10.9-universal2-cpython-39/catboost/eval\n",
      "  \u001b[31m   \u001b[0m copying catboost/eval/log_config.py -> build/lib.macosx-10.9-universal2-cpython-39/catboost/eval\n",
      "  \u001b[31m   \u001b[0m copying catboost/eval/_splitter.py -> build/lib.macosx-10.9-universal2-cpython-39/catboost/eval\n",
      "  \u001b[31m   \u001b[0m copying catboost/eval/__init__.py -> build/lib.macosx-10.9-universal2-cpython-39/catboost/eval\n",
      "  \u001b[31m   \u001b[0m copying catboost/eval/execution_case.py -> build/lib.macosx-10.9-universal2-cpython-39/catboost/eval\n",
      "  \u001b[31m   \u001b[0m copying catboost/eval/_fold_storage.py -> build/lib.macosx-10.9-universal2-cpython-39/catboost/eval\n",
      "  \u001b[31m   \u001b[0m copying catboost/eval/factor_utils.py -> build/lib.macosx-10.9-universal2-cpython-39/catboost/eval\n",
      "  \u001b[31m   \u001b[0m copying catboost/eval/utils.py -> build/lib.macosx-10.9-universal2-cpython-39/catboost/eval\n",
      "  \u001b[31m   \u001b[0m copying catboost/eval/evaluation_result.py -> build/lib.macosx-10.9-universal2-cpython-39/catboost/eval\n",
      "  \u001b[31m   \u001b[0m copying catboost/eval/_fold_models_handler.py -> build/lib.macosx-10.9-universal2-cpython-39/catboost/eval\n",
      "  \u001b[31m   \u001b[0m running build_ext\n",
      "  \u001b[31m   \u001b[0m Buildling _catboost with cmake and ninja\n",
      "  \u001b[31m   \u001b[0m target_platform=darwin-x86_64. Building targets _catboost with PIC\n",
      "  \u001b[31m   \u001b[0m Running \"cmake /private/var/folders/jr/y6j710014w98cjhsh00zh_gw0000gn/T/pip-install-xv0lgqke/catboost_f7aed94f88e64a7e85dafc3b509fcc4e/catboost_all_src -B /private/var/folders/jr/y6j710014w98cjhsh00zh_gw0000gn/T/pip-install-xv0lgqke/catboost_f7aed94f88e64a7e85dafc3b509fcc4e/build/temp.macosx-10.9-universal2-cpython-39 -G Ninja -DCMAKE_BUILD_TYPE=Release -DCMAKE_TOOLCHAIN_FILE=/private/var/folders/jr/y6j710014w98cjhsh00zh_gw0000gn/T/pip-install-xv0lgqke/catboost_f7aed94f88e64a7e85dafc3b509fcc4e/catboost_all_src/build/toolchains/clang.toolchain --log-level=VERBOSE -DCMAKE_POSITION_INDEPENDENT_CODE=On -DCATBOOST_COMPONENTS=python-package -DCMAKE_OSX_DEPLOYMENT_TARGET=11.0 -DHAVE_CUDA=no -DPython3_ROOT_DIR=/usr/local\"\n",
      "  \u001b[31m   \u001b[0m error: [Errno 2] No such file or directory: 'cmake'\n",
      "  \u001b[31m   \u001b[0m \u001b[31m[end of output]\u001b[0m\n",
      "  \n",
      "  \u001b[1;35mnote\u001b[0m: This error originates from a subprocess, and is likely not a problem with pip.\n",
      "\u001b[?25h\u001b[31m  ERROR: Failed building wheel for catboost\u001b[0m\u001b[31m\n",
      "\u001b[0mFailed to build catboost\n",
      "\u001b[31mERROR: Could not build wheels for catboost, which is required to install pyproject.toml-based projects\u001b[0m\u001b[31m\n",
      "\u001b[0m\n",
      "\u001b[1m[\u001b[0m\u001b[34;49mnotice\u001b[0m\u001b[1;39;49m]\u001b[0m\u001b[39;49m A new release of pip is available: \u001b[0m\u001b[31;49m23.3.1\u001b[0m\u001b[39;49m -> \u001b[0m\u001b[32;49m24.2\u001b[0m\n",
      "\u001b[1m[\u001b[0m\u001b[34;49mnotice\u001b[0m\u001b[1;39;49m]\u001b[0m\u001b[39;49m To update, run: \u001b[0m\u001b[32;49mpip install --upgrade pip\u001b[0m\n",
      "Note: you may need to restart the kernel to use updated packages.\n"
     ]
    }
   ],
   "source": [
    "pip install catboost"
   ]
  },
  {
   "cell_type": "code",
   "execution_count": 31,
   "metadata": {},
   "outputs": [
    {
     "ename": "ModuleNotFoundError",
     "evalue": "No module named 'catboost'",
     "output_type": "error",
     "traceback": [
      "\u001b[0;31m---------------------------------------------------------------------------\u001b[0m",
      "\u001b[0;31mModuleNotFoundError\u001b[0m                       Traceback (most recent call last)",
      "\u001b[1;32m/Users/veshua/Documents/IDE/Math&ML-9/бустинг.ipynb Cell 16\u001b[0m line \u001b[0;36m1\n\u001b[0;32m----> <a href='vscode-notebook-cell:/Users/veshua/Documents/IDE/Math%26ML-9/%D0%B1%D1%83%D1%81%D1%82%D0%B8%D0%BD%D0%B3.ipynb#X20sZmlsZQ%3D%3D?line=0'>1</a>\u001b[0m \u001b[39mfrom\u001b[39;00m \u001b[39mcatboost\u001b[39;00m \u001b[39mimport\u001b[39;00m CatBoostClassifier\n\u001b[1;32m      <a href='vscode-notebook-cell:/Users/veshua/Documents/IDE/Math%26ML-9/%D0%B1%D1%83%D1%81%D1%82%D0%B8%D0%BD%D0%B3.ipynb#X20sZmlsZQ%3D%3D?line=1'>2</a>\u001b[0m model \u001b[39m=\u001b[39m CatBoostClassifier(random_state\u001b[39m=\u001b[39m\u001b[39m26\u001b[39m)\n\u001b[1;32m      <a href='vscode-notebook-cell:/Users/veshua/Documents/IDE/Math%26ML-9/%D0%B1%D1%83%D1%81%D1%82%D0%B8%D0%BD%D0%B3.ipynb#X20sZmlsZQ%3D%3D?line=2'>3</a>\u001b[0m model\u001b[39m.\u001b[39mfit(X_train, y_train)\n",
      "\u001b[0;31mModuleNotFoundError\u001b[0m: No module named 'catboost'"
     ]
    }
   ],
   "source": [
    "from catboost import CatBoostClassifier\n",
    "model = CatBoostClassifier(random_state=26)\n",
    "model.fit(X_train, y_train)\n",
    "preds_class = model.predict(X_test)\n",
    "f1_score(preds_class, y_test)"
   ]
  },
  {
   "cell_type": "code",
   "execution_count": null,
   "metadata": {},
   "outputs": [],
   "source": [
    "cm = get_confusion_matrix(model, Pool(X_train, y_train))"
   ]
  },
  {
   "cell_type": "code",
   "execution_count": null,
   "metadata": {},
   "outputs": [],
   "source": [
    "pd.DataFrame(\n",
    "    {\n",
    "        \"feature_importance\": clf.get_feature_importance(),\n",
    "        \"feature_names\": df.drop(columns=\"satisfaction\").columns,\n",
    "    }\n",
    ").sort_values(by=[\"feature_importance\"], ascending=False)"
   ]
  }
 ],
 "metadata": {
  "kernelspec": {
   "display_name": "Python 3",
   "language": "python",
   "name": "python3"
  },
  "language_info": {
   "codemirror_mode": {
    "name": "ipython",
    "version": 3
   },
   "file_extension": ".py",
   "mimetype": "text/x-python",
   "name": "python",
   "nbconvert_exporter": "python",
   "pygments_lexer": "ipython3",
   "version": "3.9.10"
  }
 },
 "nbformat": 4,
 "nbformat_minor": 2
}
